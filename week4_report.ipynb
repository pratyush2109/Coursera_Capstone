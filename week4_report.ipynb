{
    "cells": [
        {
            "metadata": {
                "collapsed": true
            },
            "cell_type": "markdown",
            "source": "# Coursera Capstone Project"
        },
        {
            "metadata": {},
            "cell_type": "markdown",
            "source": "## Business Problem"
        },
        {
            "metadata": {},
            "cell_type": "markdown",
            "source": "## Introduction"
        },
        {
            "metadata": {},
            "cell_type": "markdown",
            "source": "Bangalore , officially known as Bengaluru is the capital of the Indian state of Karnataka. It has a population of over 10 million, making it a megacity and the third most populous urban agglomeration in India. It is located in Southern India, on the Deccan Plateau at an elevation of over 900m (3000ft) above sea level, which is the highest among India's major cities. It is multi-ethnic, multi-religious and cosmopolitan in nature."
        },
        {
            "metadata": {},
            "cell_type": "markdown",
            "source": "## Problem Statement"
        },
        {
            "metadata": {},
            "cell_type": "markdown",
            "source": "I am currently pursuing my engineering from RNS Instittute of Technology, which is a college located in Bangalore. Lots of student studying in this college stay away from their homes during their 4 years of tenure of study. Being a student, I would like to reside in the neighborhood of the college. The main aim of this Capstone Project is to explore the venues of each neighborhood of this college and look for the neighborhoods having ample hostels,malls,restaurants,departmental stores, book stores and transportation etc. This analysis may help students who wish to reside nearby the college campus."
        },
        {
            "metadata": {},
            "cell_type": "markdown",
            "source": "## Target Audience"
        },
        {
            "metadata": {},
            "cell_type": "markdown",
            "source": " ### This analysis may help students who wish to reside nearby the college campus of RNS Institute of Technology, Bangalore."
        },
        {
            "metadata": {},
            "cell_type": "markdown",
            "source": "## Data"
        },
        {
            "metadata": {},
            "cell_type": "markdown",
            "source": "I downloaded the required data from a website published by Government of India. Here is a link to the website: https://data.gov.in/resources/all-india-pincode-directory-contact-details-along-latitude-and-longitude\n\nThis csv file, contains the list of pincodes of all cities of India, officenames (post office), the head office (HO) names of each officename etc. The Latitude and Longitude columns are incomplete for most areas. So, I will try to fill it with the help of Geopy. I am using Foursquare API to get the venues of each neighbourhood of the institution.\n\nI have downloaded the required csv file and loaded this data into the project to be used as a data asset. I have then converted the csv file to pandas dataframe and displayed the head of the dataframe below. Further data formating steps are given below under the heading of \"Formating and Cleaning Data\"."
        },
        {
            "metadata": {},
            "cell_type": "code",
            "source": "import pandas as pd",
            "execution_count": 2,
            "outputs": []
        },
        {
            "metadata": {},
            "cell_type": "code",
            "source": "\nimport types\nimport pandas as pd\nfrom botocore.client import Config\nimport ibm_boto3\n\ndef __iter__(self): return 0\n\n# @hidden_cell\n# The following code accesses a file in your IBM Cloud Object Storage. It includes your credentials.\n# You might want to remove those credentials before you share the notebook.\nclient_59029e3d216943aabd0d76945fc61a26 = ibm_boto3.client(service_name='s3',\n    ibm_api_key_id='mir0vnpTe9Ny-ygAJrOZoam7uHwv6Rxk_kvweeOw2TKo',\n    ibm_auth_endpoint=\"https://iam.eu-gb.bluemix.net/oidc/token\",\n    config=Config(signature_version='oauth'),\n    endpoint_url='https://s3.eu-geo.objectstorage.service.networklayer.com')\n\nbody = client_59029e3d216943aabd0d76945fc61a26.get_object(Bucket='finalcapstoneproject-donotdelete-pr-qfjhl8yxukwzns',Key='pincode_data.csv')['Body']\n# add missing __iter__ method, so pandas accepts body as file-like object\nif not hasattr(body, \"__iter__\"): body.__iter__ = types.MethodType( __iter__, body )\n\ndata = pd.read_csv(body)\ndata.head()\n",
            "execution_count": 3,
            "outputs": [
                {
                    "output_type": "execute_result",
                    "execution_count": 3,
                    "data": {
                        "text/plain": "                  officename  pincode officeType Deliverystatus divisionname  \\\n0              Achalapur B.O   504273        B.O       Delivery     Adilabad   \n1                    Ada B.O   504293        B.O       Delivery     Adilabad   \n2                Adegaon B.O   504307        B.O       Delivery     Adilabad   \n3  Adilabad Collectorate S.O   504001        S.O   Non-Delivery     Adilabad   \n4               Adilabad H.O   504001        H.O       Delivery     Adilabad   \n\n  regionname      circlename     Taluk Districtname  statename     Telephone  \\\n0  Hyderabad  Andhra Pradesh  Asifabad     Adilabad  TELANGANA           NaN   \n1  Hyderabad  Andhra Pradesh  Asifabad     Adilabad  TELANGANA           NaN   \n2  Hyderabad  Andhra Pradesh     Boath     Adilabad  TELANGANA           NaN   \n3  Hyderabad  Andhra Pradesh  Adilabad     Adilabad  TELANGANA  08732-226703   \n4  Hyderabad  Andhra Pradesh  Adilabad     Adilabad  TELANGANA  08732-226738   \n\n  Related Suboffice Related Headoffice  longitude  latitude  \n0       Rechini S.O     Mancherial H.O        NaN       NaN  \n1      Asifabad S.O     Mancherial H.O        NaN       NaN  \n2        Echoda S.O       Adilabad H.O        NaN       NaN  \n3               NaN       Adilabad H.O        NaN       NaN  \n4               NaN                NaN        NaN       NaN  ",
                        "text/html": "<div>\n<style scoped>\n    .dataframe tbody tr th:only-of-type {\n        vertical-align: middle;\n    }\n\n    .dataframe tbody tr th {\n        vertical-align: top;\n    }\n\n    .dataframe thead th {\n        text-align: right;\n    }\n</style>\n<table border=\"1\" class=\"dataframe\">\n  <thead>\n    <tr style=\"text-align: right;\">\n      <th></th>\n      <th>officename</th>\n      <th>pincode</th>\n      <th>officeType</th>\n      <th>Deliverystatus</th>\n      <th>divisionname</th>\n      <th>regionname</th>\n      <th>circlename</th>\n      <th>Taluk</th>\n      <th>Districtname</th>\n      <th>statename</th>\n      <th>Telephone</th>\n      <th>Related Suboffice</th>\n      <th>Related Headoffice</th>\n      <th>longitude</th>\n      <th>latitude</th>\n    </tr>\n  </thead>\n  <tbody>\n    <tr>\n      <th>0</th>\n      <td>Achalapur B.O</td>\n      <td>504273</td>\n      <td>B.O</td>\n      <td>Delivery</td>\n      <td>Adilabad</td>\n      <td>Hyderabad</td>\n      <td>Andhra Pradesh</td>\n      <td>Asifabad</td>\n      <td>Adilabad</td>\n      <td>TELANGANA</td>\n      <td>NaN</td>\n      <td>Rechini S.O</td>\n      <td>Mancherial H.O</td>\n      <td>NaN</td>\n      <td>NaN</td>\n    </tr>\n    <tr>\n      <th>1</th>\n      <td>Ada B.O</td>\n      <td>504293</td>\n      <td>B.O</td>\n      <td>Delivery</td>\n      <td>Adilabad</td>\n      <td>Hyderabad</td>\n      <td>Andhra Pradesh</td>\n      <td>Asifabad</td>\n      <td>Adilabad</td>\n      <td>TELANGANA</td>\n      <td>NaN</td>\n      <td>Asifabad S.O</td>\n      <td>Mancherial H.O</td>\n      <td>NaN</td>\n      <td>NaN</td>\n    </tr>\n    <tr>\n      <th>2</th>\n      <td>Adegaon B.O</td>\n      <td>504307</td>\n      <td>B.O</td>\n      <td>Delivery</td>\n      <td>Adilabad</td>\n      <td>Hyderabad</td>\n      <td>Andhra Pradesh</td>\n      <td>Boath</td>\n      <td>Adilabad</td>\n      <td>TELANGANA</td>\n      <td>NaN</td>\n      <td>Echoda S.O</td>\n      <td>Adilabad H.O</td>\n      <td>NaN</td>\n      <td>NaN</td>\n    </tr>\n    <tr>\n      <th>3</th>\n      <td>Adilabad Collectorate S.O</td>\n      <td>504001</td>\n      <td>S.O</td>\n      <td>Non-Delivery</td>\n      <td>Adilabad</td>\n      <td>Hyderabad</td>\n      <td>Andhra Pradesh</td>\n      <td>Adilabad</td>\n      <td>Adilabad</td>\n      <td>TELANGANA</td>\n      <td>08732-226703</td>\n      <td>NaN</td>\n      <td>Adilabad H.O</td>\n      <td>NaN</td>\n      <td>NaN</td>\n    </tr>\n    <tr>\n      <th>4</th>\n      <td>Adilabad H.O</td>\n      <td>504001</td>\n      <td>H.O</td>\n      <td>Delivery</td>\n      <td>Adilabad</td>\n      <td>Hyderabad</td>\n      <td>Andhra Pradesh</td>\n      <td>Adilabad</td>\n      <td>Adilabad</td>\n      <td>TELANGANA</td>\n      <td>08732-226738</td>\n      <td>NaN</td>\n      <td>NaN</td>\n      <td>NaN</td>\n      <td>NaN</td>\n    </tr>\n  </tbody>\n</table>\n</div>"
                    },
                    "metadata": {}
                }
            ]
        },
        {
            "metadata": {},
            "cell_type": "markdown",
            "source": "## Formating and Cleaning Data"
        },
        {
            "metadata": {},
            "cell_type": "markdown",
            "source": "1. The data pertaining to Districtname='Bangalore' is needed, so I will filter only the rows having Districtname = 'Bangalore'.\n2. Since, RNSIT's Related HeadOffice is \"Basavanagudi\", only the data pertaining to this condition is kept.\n3. Next, we will keep only the columns officename, pincode , longitude , latitude.\n4. Multiple occurences of same pincode are checked.\n5. Rename the column 'officename' as 'neighborhood' and combine the neighborhoods having the same pincode with a comma(,)."
        }
    ],
    "metadata": {
        "kernelspec": {
            "name": "python3",
            "display_name": "Python 3.6",
            "language": "python"
        },
        "language_info": {
            "name": "python",
            "version": "3.6.8",
            "mimetype": "text/x-python",
            "codemirror_mode": {
                "name": "ipython",
                "version": 3
            },
            "pygments_lexer": "ipython3",
            "nbconvert_exporter": "python",
            "file_extension": ".py"
        }
    },
    "nbformat": 4,
    "nbformat_minor": 1
}